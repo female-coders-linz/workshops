{
  "nbformat": 4,
  "nbformat_minor": 0,
  "metadata": {
    "colab": {
      "name": "forecasting_prophet.ipynb",
      "provenance": [],
      "collapsed_sections": [],
      "authorship_tag": "ABX9TyOQSuoUiy/0m85tlZ6OUcDG",
      "include_colab_link": true
    },
    "kernelspec": {
      "name": "python3",
      "display_name": "Python 3"
    }
  },
  "cells": [
    {
      "cell_type": "markdown",
      "metadata": {
        "id": "view-in-github",
        "colab_type": "text"
      },
      "source": [
        "<a href=\"https://colab.research.google.com/github/female-coders-linz/workshops/blob/master/time_series/forecasting_prophet.ipynb\" target=\"_parent\"><img src=\"https://colab.research.google.com/assets/colab-badge.svg\" alt=\"Open In Colab\"/></a>"
      ]
    },
    {
      "cell_type": "markdown",
      "metadata": {
        "id": "jsJadru1hzf6",
        "colab_type": "text"
      },
      "source": [
        "# Time Series Forecasting with Prophet"
      ]
    },
    {
      "cell_type": "code",
      "metadata": {
        "id": "yLJuJFeFiRMe",
        "colab_type": "code",
        "colab": {}
      },
      "source": [
        "# Install mwviews (needed to access Wikipedia article views data)\n",
        "from IPython.display import clear_output\n",
        "\n",
        "!pip install mwviews\n",
        "\n",
        "clear_output()"
      ],
      "execution_count": 0,
      "outputs": []
    },
    {
      "cell_type": "code",
      "metadata": {
        "id": "7G64Tyk04s0v",
        "colab_type": "code",
        "colab": {}
      },
      "source": [
        "import pandas as pd\n",
        "import matplotlib.pyplot as plt\n",
        "\n",
        "from prophet import Prophet\n",
        "from mwviews.api import PageviewsClient\n",
        "from sklearn.metrics import mean_absolute_error, mean_squared_error"
      ],
      "execution_count": 0,
      "outputs": []
    },
    {
      "cell_type": "markdown",
      "metadata": {
        "id": "2EQUUQAivVsx",
        "colab_type": "text"
      },
      "source": [
        "## Get input data"
      ]
    },
    {
      "cell_type": "code",
      "metadata": {
        "id": "a2SLKXu1h9r9",
        "colab_type": "code",
        "colab": {}
      },
      "source": [
        "# Load data: page views of wikipedia site\n",
        "p = PageviewsClient(user_agent=\"info@female-coders.at Prophet time series forecasting example\")\n",
        "\n",
        "# TODO: add a wikipedia topic you want to load data for, and a start date\n",
        "article_views = p.article_views('en.wikipedia', [] , granularity='monthly', start='', end='20200430' )\n",
        "df_article_views = pd.DataFrame(article_views).T.sort_index()\n",
        "df_article_views.head()"
      ],
      "execution_count": 0,
      "outputs": []
    },
    {
      "cell_type": "code",
      "metadata": {
        "id": "d3gh1LHSi6La",
        "colab_type": "code",
        "colab": {}
      },
      "source": [
        "# First view on the data\n",
        "fig = plt.figure(figsize=(30, 6))\n",
        "plt.plot(df_article_views)\n",
        "plt.legend(df_article_views.columns)\n",
        "plt.title('Wikipedia article views')\n",
        "plt.show()"
      ],
      "execution_count": 0,
      "outputs": []
    },
    {
      "cell_type": "markdown",
      "metadata": {
        "id": "EXrxKZ0Ul-dF",
        "colab_type": "text"
      },
      "source": [
        "## Prepare dataframe"
      ]
    },
    {
      "cell_type": "code",
      "metadata": {
        "id": "ce-U4xTVl4Rh",
        "colab_type": "code",
        "colab": {}
      },
      "source": [
        "# let's use Wolfgang Amadeus Mozart's page views\n",
        "# input data needs column ds (time) and y \n",
        "\n",
        "# TODO: provide correct column names\n",
        "df_input = pd.DataFrame({ \n",
        "    '': df_article_views.index, \n",
        "    '': df_article_views['Wolfgang_Amadeus_Mozart']\n",
        "})\n"
      ],
      "execution_count": 0,
      "outputs": []
    },
    {
      "cell_type": "code",
      "metadata": {
        "id": "7myoXwjoA1IS",
        "colab_type": "code",
        "colab": {}
      },
      "source": [
        "# Define what data we want to use for training and test\n",
        "\n",
        "# TODO: Add a proper test length\n",
        "test_len =  # months\n",
        "train, test = df_input[:-test_len], df_input[-test_len:]\n",
        "\n",
        "print(f'Training size: {len(train)}')\n",
        "print(f'Test size: {test_len}')"
      ],
      "execution_count": 0,
      "outputs": []
    },
    {
      "cell_type": "markdown",
      "metadata": {
        "id": "MNJX4wIdtAtl",
        "colab_type": "text"
      },
      "source": [
        "### Train Model"
      ]
    },
    {
      "cell_type": "code",
      "metadata": {
        "id": "KXenXvXw7ruP",
        "colab_type": "code",
        "colab": {}
      },
      "source": [
        "model = Prophet()\n",
        "\n",
        "model.fit(train)\n",
        "\n",
        "# if you are more interested in more details, have a look at the parameters\n",
        "# model.params"
      ],
      "execution_count": 0,
      "outputs": []
    },
    {
      "cell_type": "code",
      "metadata": {
        "id": "koPG08Smu4N1",
        "colab_type": "code",
        "colab": {}
      },
      "source": [
        "# if you have daily data, you might want to include holidays, \n",
        "#    e.g. birthday, Salzburger Festspiele,...\n",
        "\n",
        "# mozart_birthday = pd.DataFrame({\n",
        "#   'holiday': 'mozart_birthday',\n",
        "#   'ds': pd.to_datetime(['2018-01-27', '2019-01-27', '2020-01-27']),\n",
        "#   'lower_window': 0,\n",
        "#   'upper_window': 1,\n",
        "# })\n",
        "# model = Prophet( \n",
        "#       interval_width=0.95, \n",
        "#       seasonality_prior_scale=0.025,\n",
        "#       holidays=mozart_birthday,\n",
        "# )"
      ],
      "execution_count": 0,
      "outputs": []
    },
    {
      "cell_type": "code",
      "metadata": {
        "id": "O5Phciv1B_PR",
        "colab_type": "code",
        "colab": {}
      },
      "source": [
        "# Create a 'future' dataframe \n",
        "\n",
        "# TODO add the number of periods you want to predict for (=test length)\n",
        "df_future = model.make_future_dataframe(periods=, freq = 'M')\n",
        "df_future.tail()"
      ],
      "execution_count": 0,
      "outputs": []
    },
    {
      "cell_type": "markdown",
      "metadata": {
        "id": "oiherJv-tSBw",
        "colab_type": "text"
      },
      "source": [
        "## Predict the future ✨"
      ]
    },
    {
      "cell_type": "code",
      "metadata": {
        "id": "PTcnrfxyCEuK",
        "colab_type": "code",
        "colab": {}
      },
      "source": [
        "# predict the future\n",
        "\n",
        "# TODO: provide your future dataframe\n",
        "df_forecast = model.predict()\n",
        "df_forecast.tail()"
      ],
      "execution_count": 0,
      "outputs": []
    },
    {
      "cell_type": "markdown",
      "metadata": {
        "id": "aA1D_UQ_tedr",
        "colab_type": "text"
      },
      "source": [
        "## Inspect your prediction"
      ]
    },
    {
      "cell_type": "code",
      "metadata": {
        "id": "2A3e8RyfDcZr",
        "colab_type": "code",
        "colab": {}
      },
      "source": [
        "# have a look at your forecast\n",
        "model.plot(df_forecast).show()"
      ],
      "execution_count": 0,
      "outputs": []
    },
    {
      "cell_type": "code",
      "metadata": {
        "id": "kj13iMpQtj3S",
        "colab_type": "code",
        "colab": {}
      },
      "source": [
        "# inspect the model components (trend, saisonalities)\n",
        "model.plot_components(df_forecast).show()"
      ],
      "execution_count": 0,
      "outputs": []
    },
    {
      "cell_type": "code",
      "metadata": {
        "id": "dHtvDIWeDv2H",
        "colab_type": "code",
        "colab": {}
      },
      "source": [
        "# How does the forecast dataframe look like? What information can you get out of it?\n",
        "\n",
        "# TODO: look only at the timeframe you predicted\n",
        "predicted = df_forecast\n",
        "predicted.head()"
      ],
      "execution_count": 0,
      "outputs": []
    },
    {
      "cell_type": "code",
      "metadata": {
        "id": "au-s-33KQuf7",
        "colab_type": "code",
        "colab": {}
      },
      "source": [
        "# plot training and test\n",
        "\n",
        "fig =plt.figure(figsize=(30, 5))\n",
        "plt.plot(train['ds'], train['y'], label='train')\n",
        "plt.plot(test['ds'], test['y'], label='test')\n",
        "\n",
        "# TODO: add your prediction to the plot (also include the confidence interval)\n",
        "\n",
        "plt.legend()\n",
        "plt.show()"
      ],
      "execution_count": 0,
      "outputs": []
    },
    {
      "cell_type": "markdown",
      "metadata": {
        "id": "nOIuVj_6umtX",
        "colab_type": "text"
      },
      "source": [
        "## Calculate Error Metrics"
      ]
    },
    {
      "cell_type": "code",
      "metadata": {
        "id": "if1wGunAQxAs",
        "colab_type": "code",
        "colab": {}
      },
      "source": [
        "print('Error')\n",
        "print('---')\n",
        "print('Train')\n",
        "print('MAE', mean_absolute_error(y_true=train['y'], y_pred=df_forecast[:-test_len]['yhat']))\n",
        "print('RMSE', mean_squared_error(y_true=train['y'], y_pred=df_forecast[:-test_len]['yhat'], squared=False))\n",
        "print('-')\n",
        "print('Test')\n",
        "\n",
        "# TODO: calculate the error metrics for the test set\n",
        "print('MAE', )\n",
        "print('RMSE', , squared=False))\n",
        "print('---')"
      ],
      "execution_count": 0,
      "outputs": []
    },
    {
      "cell_type": "code",
      "metadata": {
        "id": "oiilDq-MEfmK",
        "colab_type": "code",
        "colab": {}
      },
      "source": [
        "# TODO: can we improve the model?"
      ],
      "execution_count": 0,
      "outputs": []
    }
  ]
}
